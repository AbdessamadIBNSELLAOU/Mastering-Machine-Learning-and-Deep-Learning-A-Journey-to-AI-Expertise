{
 "cells": [
  {
   "cell_type": "markdown",
   "id": "089c635b",
   "metadata": {},
   "source": [
    "### 🔧 1. Simple Forward Propagation: `J(theta) = θx`\n"
   ]
  },
  {
   "cell_type": "code",
   "execution_count": 1,
   "id": "b040505a",
   "metadata": {},
   "outputs": [
    {
     "name": "stdout",
     "output_type": "stream",
     "text": [
      "J = 8\n"
     ]
    }
   ],
   "source": [
    "import numpy as np\n",
    "\n",
    "def forward_propagation(x, theta):\n",
    "    J = np.dot(theta, x)\n",
    "    return J\n",
    "\n",
    "x, theta = 2, 4\n",
    "J = forward_propagation(x, theta)\n",
    "print(\"J =\", J)\n"
   ]
  },
  {
   "cell_type": "markdown",
   "id": "694494fa",
   "metadata": {},
   "source": [
    "### 🔁 2. Simple Backward Propagation (Gradient of J w.r.t. θ)\n"
   ]
  },
  {
   "cell_type": "code",
   "execution_count": 2,
   "id": "c0de900a",
   "metadata": {},
   "outputs": [
    {
     "name": "stdout",
     "output_type": "stream",
     "text": [
      "dtheta = 3\n"
     ]
    }
   ],
   "source": [
    "def backward_propagation(x, theta):\n",
    "    dtheta = x\n",
    "    return dtheta\n",
    "\n",
    "x, theta = 3, 4\n",
    "dtheta = backward_propagation(x, theta)\n",
    "print(\"dtheta =\", dtheta)\n"
   ]
  },
  {
   "cell_type": "markdown",
   "id": "81bf37eb",
   "metadata": {},
   "source": [
    "### 🧪 3. Gradient Check for Scalar Case\n"
   ]
  },
  {
   "cell_type": "code",
   "execution_count": 3,
   "id": "9676df6d",
   "metadata": {},
   "outputs": [
    {
     "name": "stdout",
     "output_type": "stream",
     "text": [
      "\u001b[92mBackward propagation is correct! difference = 7.814075313343006e-11 \u001b[0m\n"
     ]
    }
   ],
   "source": [
    "def gradient_check(x, theta, epsilon=1e-7, print_msg=False):\n",
    "    theta_plus = theta + epsilon\n",
    "    theta_minus = theta - epsilon\n",
    "    J_plus = forward_propagation(x, theta_plus)\n",
    "    J_minus = forward_propagation(x, theta_minus)\n",
    "    gradapprox = (J_plus - J_minus) / (2 * epsilon)\n",
    "    \n",
    "    grad = backward_propagation(x, theta)\n",
    "    numerator = np.linalg.norm(grad - gradapprox)\n",
    "    denominator = np.linalg.norm(grad) + np.linalg.norm(gradapprox)\n",
    "    difference = numerator / denominator\n",
    "    \n",
    "    if print_msg:\n",
    "        if difference > 2e-7:\n",
    "            print(\"\\033[93mThere is a mistake! difference =\", difference, \"\\033[0m\")\n",
    "        else:\n",
    "            print(\"\\033[92mBackward propagation is correct! difference =\", difference, \"\\033[0m\")\n",
    "    \n",
    "    return difference\n",
    "\n",
    "x, theta = 3, 4\n",
    "difference = gradient_check(x, theta, print_msg=True)\n"
   ]
  },
  {
   "cell_type": "markdown",
   "id": "3192e978",
   "metadata": {},
   "source": [
    "### ⚙️ 4. Multi-layer Forward Propagation (for neural network)\n"
   ]
  },
  {
   "cell_type": "code",
   "execution_count": 4,
   "id": "ded7fb12",
   "metadata": {},
   "outputs": [],
   "source": [
    "from gc_utils import sigmoid, relu\n",
    "\n",
    "def forward_propagation_n(X, Y, parameters):\n",
    "    m = X.shape[1]\n",
    "    W1, b1 = parameters[\"W1\"], parameters[\"b1\"]\n",
    "    W2, b2 = parameters[\"W2\"], parameters[\"b2\"]\n",
    "    W3, b3 = parameters[\"W3\"], parameters[\"b3\"]\n",
    "    \n",
    "    Z1 = np.dot(W1, X) + b1\n",
    "    A1 = relu(Z1)\n",
    "    Z2 = np.dot(W2, A1) + b2\n",
    "    A2 = relu(Z2)\n",
    "    Z3 = np.dot(W3, A2) + b3\n",
    "    A3 = sigmoid(Z3)\n",
    "\n",
    "    log_probs = np.multiply(-np.log(A3), Y) + np.multiply(-np.log(1 - A3), 1 - Y)\n",
    "    cost = 1. / m * np.sum(log_probs)\n",
    "    \n",
    "    cache = (Z1, A1, W1, b1, Z2, A2, W2, b2, Z3, A3, W3, b3)\n",
    "    return cost, cache\n"
   ]
  },
  {
   "cell_type": "markdown",
   "id": "203733d4",
   "metadata": {},
   "source": [
    "### 🔁 5. Backward Propagation for Multi-layer NN\n"
   ]
  },
  {
   "cell_type": "code",
   "execution_count": 5,
   "id": "26aaa4fd",
   "metadata": {},
   "outputs": [],
   "source": [
    "def backward_propagation_n(X, Y, cache):\n",
    "    m = X.shape[1]\n",
    "    Z1, A1, W1, b1, Z2, A2, W2, b2, Z3, A3, W3, b3 = cache\n",
    "\n",
    "    dZ3 = A3 - Y\n",
    "    dW3 = 1./m * np.dot(dZ3, A2.T)\n",
    "    db3 = 1./m * np.sum(dZ3, axis=1, keepdims=True)\n",
    "\n",
    "    dA2 = np.dot(W3.T, dZ3)\n",
    "    dZ2 = dA2 * (A2 > 0)\n",
    "    dW2 = 1./m * np.dot(dZ2, A1.T)\n",
    "    db2 = 1./m * np.sum(dZ2, axis=1, keepdims=True)\n",
    "\n",
    "    dA1 = np.dot(W2.T, dZ2)\n",
    "    dZ1 = dA1 * (A1 > 0)\n",
    "    dW1 = 1./m * np.dot(dZ1, X.T)\n",
    "    db1 = 1./m * np.sum(dZ1, axis=1, keepdims=True)\n",
    "\n",
    "    gradients = {\n",
    "        \"dW3\": dW3, \"db3\": db3,\n",
    "        \"dW2\": dW2, \"db2\": db2,\n",
    "        \"dW1\": dW1, \"db1\": db1\n",
    "    }\n",
    "    return gradients\n"
   ]
  },
  {
   "cell_type": "markdown",
   "id": "658268e6",
   "metadata": {},
   "source": [
    "### ✅ 6. Gradient Check for Multi-layer NN\n"
   ]
  },
  {
   "cell_type": "code",
   "execution_count": 6,
   "id": "ae8f14fa",
   "metadata": {},
   "outputs": [],
   "source": [
    "from gc_utils import dictionary_to_vector, vector_to_dictionary, gradients_to_vector\n",
    "\n",
    "def gradient_check_n(parameters, gradients, X, Y, epsilon=1e-7, print_msg=False):\n",
    "    parameters_values, _ = dictionary_to_vector(parameters)\n",
    "    grad = gradients_to_vector(gradients)\n",
    "    \n",
    "    num_parameters = parameters_values.shape[0]\n",
    "    gradapprox = np.zeros((num_parameters, 1))\n",
    "    \n",
    "    for i in range(num_parameters):\n",
    "        theta_plus = np.copy(parameters_values)\n",
    "        theta_plus[i] += epsilon\n",
    "        J_plus, _ = forward_propagation_n(X, Y, vector_to_dictionary(theta_plus))\n",
    "\n",
    "        theta_minus = np.copy(parameters_values)\n",
    "        theta_minus[i] -= epsilon\n",
    "        J_minus, _ = forward_propagation_n(X, Y, vector_to_dictionary(theta_minus))\n",
    "\n",
    "        gradapprox[i] = (J_plus - J_minus) / (2 * epsilon)\n",
    "\n",
    "    numerator = np.linalg.norm(grad - gradapprox)\n",
    "    denominator = np.linalg.norm(grad) + np.linalg.norm(gradapprox)\n",
    "    difference = numerator / denominator\n",
    "\n",
    "    if print_msg:\n",
    "        if difference > 2e-7:\n",
    "            print(\"\\033[93mThere is a mistake in backward propagation! difference =\", difference, \"\\033[0m\")\n",
    "        else:\n",
    "            print(\"\\033[92mYour backward propagation works correctly! difference =\", difference, \"\\033[0m\")\n",
    "\n",
    "    return difference\n"
   ]
  },
  {
   "cell_type": "markdown",
   "id": "40eb210e",
   "metadata": {},
   "source": [
    "### 🧪 Example: Run Gradient Check on a Simple Neural Network\n"
   ]
  },
  {
   "cell_type": "code",
   "execution_count": 7,
   "id": "20119f91",
   "metadata": {},
   "outputs": [],
   "source": [
    "import numpy as np\n",
    "\n",
    "# --- Mock gradient_check_n_test_case() ---\n",
    "\n",
    "def gradient_check_n_test_case():\n",
    "    np.random.seed(1)\n",
    "    X = np.random.randn(4, 3)         # 4 features, 3 examples\n",
    "    Y = (np.random.randn(1, 3) > 0)   # binary labels\n",
    "\n",
    "    W1 = np.random.randn(5, 4)\n",
    "    b1 = np.random.randn(5, 1)\n",
    "    W2 = np.random.randn(3, 5)\n",
    "    b2 = np.random.randn(3, 1)\n",
    "    W3 = np.random.randn(1, 3)\n",
    "    b3 = np.random.randn(1, 1)\n",
    "\n",
    "    parameters = {\n",
    "        \"W1\": W1, \"b1\": b1,\n",
    "        \"W2\": W2, \"b2\": b2,\n",
    "        \"W3\": W3, \"b3\": b3\n",
    "    }\n",
    "\n",
    "    return X, Y.astype(int), parameters\n"
   ]
  },
  {
   "cell_type": "code",
   "execution_count": 9,
   "id": "ee767fde",
   "metadata": {},
   "outputs": [
    {
     "name": "stdout",
     "output_type": "stream",
     "text": [
      "\u001b[92mYour backward propagation works correctly! difference = 7.229555355926147e-09 \u001b[0m\n"
     ]
    },
    {
     "ename": "AssertionError",
     "evalue": "Wrong value. It is not one of the expected values",
     "output_type": "error",
     "traceback": [
      "\u001b[31m---------------------------------------------------------------------------\u001b[39m",
      "\u001b[31mAssertionError\u001b[39m                            Traceback (most recent call last)",
      "\u001b[36mCell\u001b[39m\u001b[36m \u001b[39m\u001b[32mIn[9]\u001b[39m\u001b[32m, line 10\u001b[39m\n\u001b[32m      8\u001b[39m expected_values = [\u001b[32m0.2850931567761623\u001b[39m, \u001b[32m1.1890913024229996e-07\u001b[39m]\n\u001b[32m      9\u001b[39m \u001b[38;5;28;01massert\u001b[39;00m \u001b[38;5;129;01mnot\u001b[39;00m(\u001b[38;5;28mtype\u001b[39m(difference) == np.ndarray), \u001b[33m\"\u001b[39m\u001b[33mYou are not using np.linalg.norm for numerator or denominator\u001b[39m\u001b[33m\"\u001b[39m\n\u001b[32m---> \u001b[39m\u001b[32m10\u001b[39m \u001b[38;5;28;01massert\u001b[39;00m np.any(np.isclose(difference, expected_values)), \u001b[33m\"\u001b[39m\u001b[33mWrong value. It is not one of the expected values\u001b[39m\u001b[33m\"\u001b[39m\n",
      "\u001b[31mAssertionError\u001b[39m: Wrong value. It is not one of the expected values"
     ]
    }
   ],
   "source": [
    "# --- Run the test case and gradient check ---\n",
    "X, Y, parameters = gradient_check_n_test_case()\n",
    "\n",
    "# Forward + Backward\n",
    "cost, cache = forward_propagation_n(X, Y, parameters)\n",
    "gradients = backward_propagation_n(X, Y, cache)\n",
    "difference = gradient_check_n(parameters, gradients, X, Y, 1e-7, True)\n",
    "expected_values = [0.2850931567761623, 1.1890913024229996e-07]\n",
    "assert not(type(difference) == np.ndarray), \"You are not using np.linalg.norm for numerator or denominator\"\n",
    "assert np.any(np.isclose(difference, expected_values)), \"Wrong value. It is not one of the expected values\"\n"
   ]
  }
 ],
 "metadata": {
  "kernelspec": {
   "display_name": "Python 3",
   "language": "python",
   "name": "python3"
  },
  "language_info": {
   "codemirror_mode": {
    "name": "ipython",
    "version": 3
   },
   "file_extension": ".py",
   "mimetype": "text/x-python",
   "name": "python",
   "nbconvert_exporter": "python",
   "pygments_lexer": "ipython3",
   "version": "3.12.4"
  }
 },
 "nbformat": 4,
 "nbformat_minor": 5
}
