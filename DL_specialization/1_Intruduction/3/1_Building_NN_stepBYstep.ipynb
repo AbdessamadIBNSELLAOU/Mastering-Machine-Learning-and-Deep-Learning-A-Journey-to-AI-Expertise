{
 "cells": [
  {
   "cell_type": "markdown",
   "id": "0fd34bbf",
   "metadata": {},
   "source": [
    "## 📦 1. Import and setup\n",
    "\n",
    "We import required packages and set the global parameters.\n"
   ]
  },
  {
   "cell_type": "code",
   "execution_count": 1,
   "id": "a798e072",
   "metadata": {},
   "outputs": [],
   "source": [
    "import numpy as np\n",
    "import h5py\n",
    "import matplotlib.pyplot as plt\n",
    "\n",
    "from dnn_utils import sigmoid, sigmoid_backward, relu, relu_backward\n",
    "\n",
    "import copy\n",
    "\n",
    "plt.rcParams['figure.figsize'] = (5.0, 4.0)\n",
    "plt.rcParams['image.interpolation'] = 'nearest'\n",
    "plt.rcParams['image.cmap'] = 'gray'\n",
    "np.random.seed(1)\n"
   ]
  },
  {
   "cell_type": "markdown",
   "id": "c320cce5",
   "metadata": {},
   "source": [
    "## ⚙️ 2. Initialize parameters for a 2-layer network\n",
    "\n",
    "We randomly initialize weights and set biases to zero for a simple 2-layer neural network.\n"
   ]
  },
  {
   "cell_type": "code",
   "execution_count": 2,
   "id": "fda89f7d",
   "metadata": {},
   "outputs": [
    {
     "name": "stdout",
     "output_type": "stream",
     "text": [
      "W1 =\n",
      "[[ 0.01624345 -0.00611756 -0.00528172 -0.01072969]\n",
      " [ 0.00865408 -0.02301539  0.01744812 -0.00761207]\n",
      " [ 0.00319039 -0.0024937   0.01462108 -0.02060141]]\n",
      "b1 =\n",
      "[[0.]\n",
      " [0.]\n",
      " [0.]]\n",
      "W2 =\n",
      "[[-0.00322417 -0.00384054  0.01133769]\n",
      " [-0.01099891 -0.00172428 -0.00877858]]\n",
      "b2 =\n",
      "[[0.]\n",
      " [0.]]\n"
     ]
    }
   ],
   "source": [
    "def initialize_parameters(n_x, n_h, n_y):\n",
    "    np.random.seed(1)\n",
    "    W1 = np.random.randn(n_h, n_x) * 0.01\n",
    "    b1 = np.zeros((n_h, 1))\n",
    "    W2 = np.random.randn(n_y, n_h) * 0.01\n",
    "    b2 = np.zeros((n_y, 1))\n",
    "    \n",
    "    return {\"W1\": W1, \"b1\": b1, \"W2\": W2, \"b2\": b2}\n",
    "\n",
    "parameters = initialize_parameters(4, 3, 2)\n",
    "for k, v in parameters.items():\n",
    "    print(f\"{k} =\\n{v}\")\n"
   ]
  },
  {
   "cell_type": "markdown",
   "id": "43383c64",
   "metadata": {},
   "source": [
    "## 🔁 3. Initialize deep network\n",
    "\n",
    "We generalize parameter initialization to any number of layers using `layer_dims`.\n"
   ]
  },
  {
   "cell_type": "code",
   "execution_count": 3,
   "id": "e023c6f4",
   "metadata": {},
   "outputs": [
    {
     "name": "stdout",
     "output_type": "stream",
     "text": [
      "W1 =\n",
      "[[ 0.01788628  0.0043651   0.00096497 -0.01863493 -0.00277388]\n",
      " [-0.00354759 -0.00082741 -0.00627001 -0.00043818 -0.00477218]\n",
      " [-0.01313865  0.00884622  0.00881318  0.01709573  0.00050034]\n",
      " [-0.00404677 -0.0054536  -0.01546477  0.00982367 -0.01101068]]\n",
      "b1 =\n",
      "[[0.]\n",
      " [0.]\n",
      " [0.]\n",
      " [0.]]\n",
      "W2 =\n",
      "[[-0.01185047 -0.0020565   0.01486148  0.00236716]\n",
      " [-0.01023785 -0.00712993  0.00625245 -0.00160513]\n",
      " [-0.00768836 -0.00230031  0.00745056  0.01976111]]\n",
      "b2 =\n",
      "[[0.]\n",
      " [0.]\n",
      " [0.]]\n"
     ]
    }
   ],
   "source": [
    "def initialize_parameters_deep(layer_dims):\n",
    "    np.random.seed(3)\n",
    "    parameters = {}\n",
    "    L = len(layer_dims)\n",
    "    for l in range(1, L):\n",
    "        parameters['W' + str(l)] = np.random.randn(layer_dims[l], layer_dims[l-1]) * 0.01\n",
    "        parameters['b' + str(l)] = np.zeros((layer_dims[l], 1))\n",
    "    return parameters\n",
    "\n",
    "parameters = initialize_parameters_deep([5, 4, 3])\n",
    "for k, v in parameters.items():\n",
    "    print(f\"{k} =\\n{v}\")\n"
   ]
  },
  {
   "cell_type": "markdown",
   "id": "5b8996da",
   "metadata": {},
   "source": [
    "## ➕ 4. Linear forward\n",
    "\n",
    "Computes \\( Z = W dot A + b \\) for one layer.\n"
   ]
  },
  {
   "cell_type": "code",
   "execution_count": 4,
   "id": "82d6577d",
   "metadata": {},
   "outputs": [],
   "source": [
    "def linear_forward(A, W, b):\n",
    "    Z = np.dot(W, A) + b\n",
    "    cache = (A, W, b)\n",
    "    return Z, cache\n"
   ]
  },
  {
   "cell_type": "markdown",
   "id": "3ab9e266",
   "metadata": {},
   "source": [
    "## ⚡ 5. Linear + Activation forward\n",
    "\n",
    "Applies activation (ReLU or Sigmoid) after linear forward.\n"
   ]
  },
  {
   "cell_type": "code",
   "execution_count": 5,
   "id": "a68c56c3",
   "metadata": {},
   "outputs": [],
   "source": [
    "def linear_activation_forward(A_prev, W, b, activation):\n",
    "    Z, linear_cache = np.dot(W, A_prev) + b, (A_prev, W, b)\n",
    "    if activation == \"sigmoid\":\n",
    "        A = 1 / (1 + np.exp(-Z))\n",
    "    elif activation == \"relu\":\n",
    "        A = np.maximum(0, Z)\n",
    "    activation_cache = Z\n",
    "    return A, (linear_cache, activation_cache)\n"
   ]
  },
  {
   "cell_type": "markdown",
   "id": "368c82f7",
   "metadata": {},
   "source": [
    "## 🔄 6. Model forward\n",
    "\n",
    "Computes forward propagation for the full L-layer model using ReLU for hidden layers and sigmoid for output.\n"
   ]
  },
  {
   "cell_type": "code",
   "execution_count": 6,
   "id": "1dce85b4",
   "metadata": {},
   "outputs": [],
   "source": [
    "def L_model_forward(X, parameters):\n",
    "    caches = []\n",
    "    A = X\n",
    "    L = len(parameters) // 2\n",
    "    for l in range(1, L):\n",
    "        A_prev = A\n",
    "        A, cache = linear_activation_forward(A_prev, parameters[\"W\" + str(l)], parameters[\"b\" + str(l)], \"relu\")\n",
    "        caches.append(cache)\n",
    "    AL, cache = linear_activation_forward(A, parameters[\"W\" + str(L)], parameters[\"b\" + str(L)], \"sigmoid\")\n",
    "    caches.append(cache)\n",
    "    return AL, caches\n"
   ]
  },
  {
   "cell_type": "markdown",
   "id": "920af6c1",
   "metadata": {},
   "source": [
    "## 📉 7. Compute cost\n",
    "\n",
    "Applies cross-entropy cost function between predicted `AL` and true labels `Y`.\n"
   ]
  },
  {
   "cell_type": "code",
   "execution_count": 7,
   "id": "1ea66de7",
   "metadata": {},
   "outputs": [],
   "source": [
    "def compute_cost(AL, Y):\n",
    "    m = Y.shape[1]\n",
    "    cost = -1/m * np.sum(Y*np.log(AL) + (1 - Y)*np.log(1 - AL))\n",
    "    return np.squeeze(cost)\n"
   ]
  },
  {
   "cell_type": "markdown",
   "id": "a74dec8d",
   "metadata": {},
   "source": [
    "## 🔙 8. Linear backward\n",
    "\n",
    "Computes gradients of cost w.r.t. \\( W, b \\) and the previous layer's activations.\n"
   ]
  },
  {
   "cell_type": "code",
   "execution_count": 8,
   "id": "523c445a",
   "metadata": {},
   "outputs": [],
   "source": [
    "def linear_backward(dZ, cache):\n",
    "    A_prev, W, b = cache\n",
    "    m = A_prev.shape[1]\n",
    "    dW = (1/m) * np.dot(dZ, A_prev.T)\n",
    "    db = (1/m) * np.sum(dZ, axis=1, keepdims=True)\n",
    "    dA_prev = np.dot(W.T, dZ)\n",
    "    return dA_prev, dW, db\n"
   ]
  },
  {
   "cell_type": "markdown",
   "id": "cea5899c",
   "metadata": {},
   "source": [
    "## 🔁 9. Linear + Activation backward\n",
    "\n",
    "Computes backward pass for a layer with ReLU or Sigmoid activation.\n"
   ]
  },
  {
   "cell_type": "code",
   "execution_count": 9,
   "id": "5edf6dd9",
   "metadata": {},
   "outputs": [],
   "source": [
    "def linear_activation_backward(dA, cache, activation):\n",
    "    linear_cache, activation_cache = cache\n",
    "    if activation == \"relu\":\n",
    "        dZ = np.array(dA, copy=True)\n",
    "        dZ[activation_cache <= 0] = 0\n",
    "    elif activation == \"sigmoid\":\n",
    "        s = 1 / (1 + np.exp(-activation_cache))\n",
    "        dZ = dA * s * (1 - s)\n",
    "    return linear_backward(dZ, linear_cache)\n"
   ]
  },
  {
   "cell_type": "markdown",
   "id": "2d1f2f26",
   "metadata": {},
   "source": [
    "## 🧠 10. Model backward\n",
    "\n",
    "Applies backpropagation through the full network, layer by layer.\n"
   ]
  },
  {
   "cell_type": "code",
   "execution_count": 10,
   "id": "956e5468",
   "metadata": {},
   "outputs": [],
   "source": [
    "def L_model_backward(AL, Y, caches):\n",
    "    grads = {}\n",
    "    L = len(caches)\n",
    "    Y = Y.reshape(AL.shape)\n",
    "    dAL = - (Y/AL - (1 - Y)/(1 - AL))\n",
    "    current_cache = caches[L - 1]\n",
    "    grads[\"dA\" + str(L - 1)], grads[\"dW\" + str(L)], grads[\"db\" + str(L)] = \\\n",
    "        linear_activation_backward(dAL, current_cache, \"sigmoid\")\n",
    "\n",
    "    for l in reversed(range(L - 1)):\n",
    "        current_cache = caches[l]\n",
    "        dA_prev_temp, dW_temp, db_temp = \\\n",
    "            linear_activation_backward(grads[\"dA\" + str(l + 1)], current_cache, \"relu\")\n",
    "        grads[\"dA\" + str(l)] = dA_prev_temp\n",
    "        grads[\"dW\" + str(l + 1)] = dW_temp\n",
    "        grads[\"db\" + str(l + 1)] = db_temp\n",
    "    return grads\n"
   ]
  },
  {
   "cell_type": "markdown",
   "id": "eed7fc1a",
   "metadata": {},
   "source": [
    "## 🔧 11. Update parameters\n",
    "\n",
    "Updates weights and biases using gradient descent.\n"
   ]
  },
  {
   "cell_type": "code",
   "execution_count": 11,
   "id": "15ce1124",
   "metadata": {},
   "outputs": [],
   "source": [
    "def update_parameters(params, grads, learning_rate):\n",
    "    parameters = copy.deepcopy(params)\n",
    "    L = len(parameters) // 2\n",
    "    for l in range(L):\n",
    "        parameters[\"W\" + str(l + 1)] -= learning_rate * grads[\"dW\" + str(l + 1)]\n",
    "        parameters[\"b\" + str(l + 1)] -= learning_rate * grads[\"db\" + str(l + 1)]\n",
    "    return parameters\n"
   ]
  }
 ],
 "metadata": {
  "kernelspec": {
   "display_name": "Python 3",
   "language": "python",
   "name": "python3"
  },
  "language_info": {
   "codemirror_mode": {
    "name": "ipython",
    "version": 3
   },
   "file_extension": ".py",
   "mimetype": "text/x-python",
   "name": "python",
   "nbconvert_exporter": "python",
   "pygments_lexer": "ipython3",
   "version": "3.12.4"
  }
 },
 "nbformat": 4,
 "nbformat_minor": 5
}
