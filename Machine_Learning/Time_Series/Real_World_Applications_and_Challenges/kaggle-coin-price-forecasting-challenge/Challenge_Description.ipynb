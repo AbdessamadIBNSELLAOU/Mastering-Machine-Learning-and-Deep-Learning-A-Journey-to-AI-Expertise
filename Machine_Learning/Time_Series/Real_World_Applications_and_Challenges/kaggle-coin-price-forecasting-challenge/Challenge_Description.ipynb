{
 "cells": [
  {
   "cell_type": "markdown",
   "id": "1c6050ac",
   "metadata": {},
   "source": [
    "# Kaggle Coin Price Forecasting Challenge\n",
    "Beyond the training data: Test your forecasting model's adaptability on an unseen asset."
   ]
  },
  {
   "cell_type": "markdown",
   "id": "6805fb25",
   "metadata": {},
   "source": [
    "## Dataset Description\n",
    "### Data Description\n",
    "Welcome to the dataset for the Kaggle Coin Price Forecasting Challenge! The data provided enables you to train time series models and generate predictions according to the competition's unique evaluation structure.\n",
    "\n",
    "The core task involves using historical 15-minute price data for \"Kaggle Coin\" to predict its Close price at future 4-hour intervals."
   ]
  },
  {
   "cell_type": "markdown",
   "id": "a4d962cf",
   "metadata": {},
   "source": [
    "### 📁 Files Provided\n",
    "You are provided with the following files:\n",
    "\n",
    "- **train.csv**: Contains the historical training data for Kaggle Coin.\n",
    "- **test.csv**: Defines the future time points where predictions are required. This file does not include target values.\n",
    "- **sample_submission.csv**: Demonstrates the exact format your submission must follow."
   ]
  },
  {
   "cell_type": "markdown",
   "id": "88e250cd",
   "metadata": {},
   "source": [
    "#### 📘 train.csv — Training Data\n",
    "Your primary resource for model training, feature engineering, and temporal pattern recognition.\n",
    "\n",
    "Content: Contains approximately 1 year of historical OHLCV (Open, High, Low, Close, Volume) data.\n",
    "Frequency: 15-minute intervals (candlesticks).\n",
    "Format: Time-indexed data.\n",
    "##### Columns\n",
    "- *timestamp*: (DateTime, UTC) Start time of the 15-minute interval. Ensures chronological order.\n",
    "- *open*: (float) Price at the beginning of the interval.\n",
    "- *high*: (float) Maximum price during the interval.\n",
    "- *low*: (float) Minimum price during the interval.\n",
    "- *close*: (float) Price at the end of the interval — this is what you'll be forecasting.\n",
    "- *volume*: (float) Total amount traded during the interval."
   ]
  },
  {
   "cell_type": "markdown",
   "id": "ed8c7a64",
   "metadata": {},
   "source": [
    "⚠️ Note: While this data is derived from real historical crypto data, such as MANA, the final evaluation will use a completely different, hidden asset. Avoid overfitting to asset-specific patterns."
   ]
  },
  {
   "cell_type": "markdown",
   "id": "3bdbcf50",
   "metadata": {},
   "source": [
    "#### 📘 test.csv — Prediction Timepoints\n",
    "This file outlines the future points in time (after the train period ends) for which your model should generate predictions.\n",
    "\n",
    "- *Purpose*: Defines which timestamps require forecasts.\n",
    "- *Structure*: Contains day_id entries representing abstracted points in time (e.g., D3660400 = Day 366, 04:00).\n",
    "- *Target*: These rows do not include target prices — they only indicate what your model should predict.\n",
    "- *Usage*: Use the train.csv data (i.e., past 365 days) to make predictions for each day_id in test.csv."
   ]
  },
  {
   "cell_type": "markdown",
   "id": "f03bb1e1",
   "metadata": {},
   "source": [
    "This setup simulates a realistic forecasting scenario where the model is asked to generalize beyond the training window."
   ]
  },
  {
   "cell_type": "markdown",
   "id": "9f322b31",
   "metadata": {},
   "source": [
    "#### 📘 sample_submission.csv — Submission Format Guide\n",
    "This file shows the required format for your prediction file.\n",
    "\n",
    "Columns\n",
    "- *day_id*: A unique synthetic timestamp identifier matching those in test.csv (e.g., D3661600)\n",
    "- *close*: Your predicted numeric Close price for that day_id\n",
    "day_id Format\n",
    "\n",
    "Each day_id follows the pattern:\n",
    "\n",
    "- *D/DDD/HHMM*\n",
    "    - DDD = Day index (e.g., 366 = day 366)\n",
    "    - HHMM = Time of day in 24-hour format (e.g., 1600 = 16:00)\n",
    "    \n",
    "    Example: D3670000 refers to Day 367, 00:00.\n",
    "\n",
    "This anonymized format hides real calendar dates to ensure fairness, while maintaining correct chronological order and intra-day time resolution.\n",
    "\n"
   ]
  },
  {
   "cell_type": "markdown",
   "id": "27d1e1eb",
   "metadata": {},
   "source": [
    "### ⏳ Time and Forecasting Structure\n",
    "- **train.csv** uses standard UTC timestamps.\n",
    "- **test.csv** and sample_submission.csv use synthetic day_id identifiers.\n",
    "\n",
    "This design allows for temporal modeling without revealing real-world dates, thereby supporting the competition's core focus on generalization."
   ]
  }
 ],
 "metadata": {
  "language_info": {
   "name": "python"
  }
 },
 "nbformat": 4,
 "nbformat_minor": 5
}
