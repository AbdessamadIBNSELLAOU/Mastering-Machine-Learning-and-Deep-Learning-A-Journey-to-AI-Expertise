{
 "cells": [
  {
   "cell_type": "markdown",
   "id": "829916cd",
   "metadata": {},
   "source": [
    "# Intruduction #\n",
    "You will work with data from the [Housing Prices Competition for Kaggle Learn Users](https://www.kaggle.com/c/home-data-for-ml-course) to predict home prices in Iowa using 79 explanatory variables describing (almost) every aspect of the homes.\n",
    "\n",
    "Load the training and validation features in `X_train` and `X_valid`, along with the prediction targets in `y_train` and `y_valid`.  The test features are loaded in `X_test`. "
   ]
  },
  {
   "cell_type": "code",
   "execution_count": 11,
   "id": "7d7bfe29",
   "metadata": {},
   "outputs": [],
   "source": [
    "import pandas as pd\n",
    "from sklearn.model_selection import train_test_split\n",
    "\n",
    "# Read the data\n",
    "X_full = pd.read_csv('train_CV.csv', index_col='Id')\n",
    "X_test_full = pd.read_csv('test_CV.csv', index_col='Id')\n",
    "\n",
    "# Obtain target and predictors\n",
    "y = X_full.SalePrice\n",
    "features = ['LotArea', 'YearBuilt', '1stFlrSF', '2ndFlrSF', 'FullBath', 'BedroomAbvGr', 'TotRmsAbvGrd']\n",
    "X = X_full[features].copy()\n",
    "X_test = X_test_full[features].copy()\n",
    "\n",
    "# Break off validation set from training data\n",
    "X_train, X_valid, y_train, y_valid = train_test_split(X, y, train_size=0.8, test_size=0.2,\n",
    "                                                      random_state=0)"
   ]
  },
  {
   "cell_type": "markdown",
   "id": "79097b31",
   "metadata": {},
   "source": [
    "Print the first several rows of the data. It's a nice way to get an overview of the data you will use in your price prediction model."
   ]
  },
  {
   "cell_type": "code",
   "execution_count": 12,
   "id": "902050a3",
   "metadata": {},
   "outputs": [],
   "source": [
    "from sklearn.ensemble import RandomForestRegressor\n",
    "\n",
    "# Define the models\n",
    "model_1 = RandomForestRegressor(n_estimators=50, random_state=0)\n",
    "model_2 = RandomForestRegressor(n_estimators=100, random_state=0)\n",
    "model_3 = RandomForestRegressor(n_estimators=100, criterion='absolute_error', random_state=0)\n",
    "model_4 = RandomForestRegressor(n_estimators=200, min_samples_split=20, random_state=0)\n",
    "model_5 = RandomForestRegressor(n_estimators=100, max_depth=7, random_state=0)\n",
    "\n",
    "models = [model_1, model_2, model_3, model_4, model_5]\n",
    "model_names = [\"Model 1\", \"Model 2\", \"Model 3\", \"Model 4\", \"Model 5\"] "
   ]
  },
  {
   "cell_type": "markdown",
   "id": "b39c25fb",
   "metadata": {},
   "source": [
    "To select the best model out of the five, we define a function score_model() below. This function returns the mean absolute error (MAE) from the validation set. Recall that the best model will obtain the lowest MAE."
   ]
  },
  {
   "cell_type": "code",
   "execution_count": 13,
   "id": "9e00e752",
   "metadata": {},
   "outputs": [
    {
     "name": "stdout",
     "output_type": "stream",
     "text": [
      "Model 1 MAE: 24015\n",
      "Model 2 MAE: 23740\n",
      "Model 3 MAE: 23528\n",
      "Model 4 MAE: 23996\n",
      "Model 5 MAE: 23706\n"
     ]
    }
   ],
   "source": [
    "from sklearn.metrics import mean_absolute_error\n",
    "# Function for comparing different models\n",
    "def score_model(model, X_t=X_train, X_v=X_valid, y_t=y_train, y_v=y_valid):\n",
    "    model.fit(X_t, y_t)\n",
    "    preds = model.predict(X_v)\n",
    "    return mean_absolute_error(y_v, preds)\n",
    "\n",
    "for i in range(0, len(models)):\n",
    "    mae = score_model(models[i])\n",
    "    print(\"Model %d MAE: %d\" % (i+1, mae))\n",
    "    "
   ]
  },
  {
   "cell_type": "markdown",
   "id": "545271f2",
   "metadata": {},
   "source": [
    "# Step 1: Evaluate several models\n",
    "Which model is the best model?"
   ]
  },
  {
   "cell_type": "code",
   "execution_count": 14,
   "id": "b3200085",
   "metadata": {},
   "outputs": [
    {
     "name": "stdout",
     "output_type": "stream",
     "text": [
      "best model is: Model 3 : RandomForestRegressor(criterion='absolute_error', random_state=0)\n"
     ]
    }
   ],
   "source": [
    "scores = {name: score_model(model, X_t=X_train, X_v=X_valid, y_t=y_train, y_v=y_valid) for name,model in zip(model_names,models)}\n",
    "best_model = min(scores, key=scores.get)\n",
    "\n",
    "model_dict = dict(zip(model_names, models))\n",
    "best_model = model_dict[min(scores, key=scores.get)]\n",
    "print(f'best model is: {min(scores, key=scores.get)} : {best_model}')"
   ]
  },
  {
   "cell_type": "markdown",
   "id": "36e54c26",
   "metadata": {},
   "source": [
    "# Step 2: Generate test predictions\n",
    "Great. You know how to evaluate what makes an accurate model. Now it's time to go through the modeling process and make predictions.\n",
    "\n"
   ]
  },
  {
   "cell_type": "markdown",
   "id": "94c8f9f3",
   "metadata": {},
   "source": [
    "The code fits the model to the training and validation data, and then generates test predictions that are saved to a CSV file."
   ]
  },
  {
   "cell_type": "code",
   "execution_count": 15,
   "id": "0de92781",
   "metadata": {},
   "outputs": [
    {
     "name": "stdout",
     "output_type": "stream",
     "text": [
      "Predictions saved to submission.csv!\n"
     ]
    }
   ],
   "source": [
    "my_model = best_model\n",
    "\n",
    "my_model.fit(X, y)\n",
    "\n",
    "# Generate test predictions\n",
    "preds_test = my_model.predict(X_test)\n",
    "# Save predictions in csv format\n",
    "output = pd.DataFrame({'Id': X_test.index,\n",
    "                       'SalePrice': preds_test})\n",
    "output.to_csv('submission.csv', index=False)\n",
    "print('Predictions saved to submission.csv!')\n"
   ]
  }
 ],
 "metadata": {
  "kernelspec": {
   "display_name": "Python 3",
   "language": "python",
   "name": "python3"
  },
  "language_info": {
   "codemirror_mode": {
    "name": "ipython",
    "version": 3
   },
   "file_extension": ".py",
   "mimetype": "text/x-python",
   "name": "python",
   "nbconvert_exporter": "python",
   "pygments_lexer": "ipython3",
   "version": "3.12.4"
  }
 },
 "nbformat": 4,
 "nbformat_minor": 5
}
