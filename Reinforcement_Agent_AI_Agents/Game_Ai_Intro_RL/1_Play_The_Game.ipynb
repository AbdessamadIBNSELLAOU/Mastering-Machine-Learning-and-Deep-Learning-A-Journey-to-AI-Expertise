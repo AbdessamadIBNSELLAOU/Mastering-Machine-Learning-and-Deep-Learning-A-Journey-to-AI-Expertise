{
 "cells": [
  {
   "cell_type": "markdown",
   "id": "af048eeb",
   "metadata": {},
   "source": [
    "# Play the Game\n",
    "Write your first game-playing agent."
   ]
  },
  {
   "cell_type": "markdown",
   "id": "5695e0e7",
   "metadata": {},
   "source": [
    "<iframe src=\"https://www.kaggle.com/embed/alexisbcook/play-the-game?cellIds=1&kernelSessionId=126574698\" height=\"300\" style=\"margin: 0 auto; width: 100%; max-width: 950px;\" frameborder=\"0\" scrolling=\"auto\" title=\"Play the Game\"></iframe>"
   ]
  },
  {
   "cell_type": "markdown",
   "id": "7a5e84d1",
   "metadata": {},
   "source": [
    "### 1) A smarter agent\n",
    "\n",
    "We can improve the performance without devising a complicated strategy, simply by selecting a winning move, if one is available.\n",
    "\n",
    "We will create an agent that:\n",
    "- selects the winning move, if it is available.  (_If there is more than one move that lets the agent win the game, the agent can select any of them._)\n",
    "- Otherwise, it should select a random move.\n"
   ]
  },
  {
   "cell_type": "code",
   "execution_count": 1,
   "id": "b757a799",
   "metadata": {},
   "outputs": [],
   "source": [
    "import numpy as np\n",
    "\n",
    "# Gets board at next step if agent drops piece in selected column\n",
    "def drop_piece(grid, col, piece, config):\n",
    "    next_grid = grid.copy()\n",
    "    for row in range(config.rows-1, -1, -1):\n",
    "        if next_grid[row][col] == 0:\n",
    "            break\n",
    "    next_grid[row][col] = piece\n",
    "    return next_grid\n",
    "\n",
    "# Returns True if dropping piece in column results in game win\n",
    "def check_winning_move(obs, config, col, piece):\n",
    "    # Convert the board to a 2D grid\n",
    "    grid = np.asarray(obs.board).reshape(config.rows, config.columns)\n",
    "    next_grid = drop_piece(grid, col, piece, config)\n",
    "    # horizontal\n",
    "    for row in range(config.rows):\n",
    "        for col in range(config.columns-(config.inarow-1)):\n",
    "            window = list(next_grid[row,col:col+config.inarow])\n",
    "            if window.count(piece) == config.inarow:\n",
    "                return True\n",
    "    # vertical\n",
    "    for row in range(config.rows-(config.inarow-1)):\n",
    "        for col in range(config.columns):\n",
    "            window = list(next_grid[row:row+config.inarow,col])\n",
    "            if window.count(piece) == config.inarow:\n",
    "                return True\n",
    "    # positive diagonal\n",
    "    for row in range(config.rows-(config.inarow-1)):\n",
    "        for col in range(config.columns-(config.inarow-1)):\n",
    "            window = list(next_grid[range(row, row+config.inarow), range(col, col+config.inarow)])\n",
    "            if window.count(piece) == config.inarow:\n",
    "                return True\n",
    "    # negative diagonal\n",
    "    for row in range(config.inarow-1, config.rows):\n",
    "        for col in range(config.columns-(config.inarow-1)):\n",
    "            window = list(next_grid[range(row, row-config.inarow, -1), range(col, col+config.inarow)])\n",
    "            if window.count(piece) == config.inarow:\n",
    "                return True\n",
    "    return False"
   ]
  },
  {
   "cell_type": "markdown",
   "id": "0cfdc4f3",
   "metadata": {},
   "source": [
    "The `check_winning_move()` function takes four required arguments: \n",
    "- `col` is any valid move \n",
    "- `piece` is either the agent's mark or the mark of its opponent. \n",
    "\n",
    "The function returns `True` if dropping the piece in the provided column wins the game (for either the agent or its opponent), and otherwise returns `False`.  "
   ]
  },
  {
   "cell_type": "code",
   "execution_count": 2,
   "id": "fc258038",
   "metadata": {},
   "outputs": [],
   "source": [
    "import random\n",
    "def agent_q1(obs, config):\n",
    "    valid_moves = [col for col in range(config.columns) if obs.board[col] == 0]\n",
    "    for col in valid_moves:\n",
    "        if check_winning_move(obs, config, col, obs.mark):\n",
    "            return col\n",
    "    return random.choice(valid_moves)"
   ]
  },
  {
   "cell_type": "markdown",
   "id": "444bffc2",
   "metadata": {},
   "source": [
    "### 2) An even smarter agent\n",
    "\n",
    "In the previous question, we created an agent that selects winning moves.  In this problem, we'll amend the code to create an agent that can also block its opponent from winning.  In particular, our agent should:\n",
    "- Select a winning move, if one is available.\n",
    "- Otherwise, it selects a move to block the opponent from winning, if the opponent has a move that it can play in its next turn to win the game. \n",
    "- If neither the agent nor the opponent can win in their next moves, the agent selects a random move."
   ]
  },
  {
   "cell_type": "code",
   "execution_count": 3,
   "id": "0803a6cc",
   "metadata": {},
   "outputs": [],
   "source": [
    "def agent_q2(obs, config):\n",
    "    valid_moves = [col for col in range(config.columns) if obs.board[col] == 0]\n",
    "    for col in valid_moves:\n",
    "        if check_winning_move(obs, config, col, obs.mark):\n",
    "            return col\n",
    "    for col in valid_moves:\n",
    "        if check_winning_move(obs, config, col, obs.mark%2+1):\n",
    "            return col\n",
    "    return random.choice(valid_moves)"
   ]
  },
  {
   "cell_type": "markdown",
   "id": "ac71d4fb",
   "metadata": {},
   "source": [
    "### 3) Looking ahead\n",
    "\n",
    "So far, we have encoded an agent that always selects the winning move, if it's available.  And, it can also block the opponent from winning.\n",
    "\n",
    "we might expect that this agent should perform quite well!  But how is it still possible that it can still lose the game?"
   ]
  },
  {
   "cell_type": "markdown",
   "id": "ead1eb05",
   "metadata": {},
   "source": [
    "**Solution**: The agent can still lose the game, if\n",
    "\n",
    "- the opponent has set up the board so that it can win in the next move by dropping a disc in any of 2 or more columns, or\n",
    "- the only move that is available to the agent is one where, once played, the opponent can win in the next move."
   ]
  }
 ],
 "metadata": {
  "kernelspec": {
   "display_name": "Python 3",
   "language": "python",
   "name": "python3"
  },
  "language_info": {
   "codemirror_mode": {
    "name": "ipython",
    "version": 3
   },
   "file_extension": ".py",
   "mimetype": "text/x-python",
   "name": "python",
   "nbconvert_exporter": "python",
   "pygments_lexer": "ipython3",
   "version": "3.12.4"
  }
 },
 "nbformat": 4,
 "nbformat_minor": 5
}
