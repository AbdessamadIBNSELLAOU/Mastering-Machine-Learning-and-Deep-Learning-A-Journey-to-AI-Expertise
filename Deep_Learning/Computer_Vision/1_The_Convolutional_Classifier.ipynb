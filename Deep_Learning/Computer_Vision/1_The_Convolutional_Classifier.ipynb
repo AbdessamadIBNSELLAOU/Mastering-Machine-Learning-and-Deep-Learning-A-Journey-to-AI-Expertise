{
 "cells": [
  {
   "cell_type": "markdown",
   "id": "78fe5c26",
   "metadata": {},
   "source": [
    "# The Convolutional Classifier\n",
    "Create your first computer vision model with Keras."
   ]
  },
  {
   "cell_type": "markdown",
   "id": "e597544d",
   "metadata": {},
   "source": [
    "\n",
    "# 👁️‍🗨️ Welcome to Computer Vision!\n",
    "\n",
    "Have you ever wanted to teach a computer to **see**?  \n",
    "Well, we’re going to do exactly that — together.\n",
    "\n",
    "---\n",
    "\n",
    "## 🚀 What We’ll Learn\n",
    "\n",
    "🎯 Build an image classifier using **Keras**  \n",
    "🧱 Design our own **convnet** with modular blocks  \n",
    "🔍 Understand how neural nets **extract visual features**  \n",
    "⚡ Boost our models using **transfer learning**  \n",
    "🧬 Use **data augmentation** to grow our dataset  \n",
    "\n",
    "We already explored the *Introduction to Deep Learning* course, so we’re more than ready to dive in.\n",
    "\n",
    "Let’s get started!\n",
    "\n",
    "---\n",
    "\n",
    "## 📚 Introduction\n",
    "\n",
    "In this course, we’re stepping into the exciting world of **computer vision**.\n",
    "\n",
    "Our mission?  \n",
    "To build a neural network that can “understand” an image the same way our eyes and brain do.\n",
    "\n",
    "We’ll focus on a classic problem:  \n",
    "> Can we teach a computer to recognize what’s in a picture?\n",
    "\n",
    "Think about plant recognition apps 🌿 or dog-breed detectors 🐶 — those are image classifiers.  \n",
    "By the end of this course, we’ll be building models just as capable.\n",
    "\n",
    "And while we’ll focus on image classification, what we learn will help us go further — into **GANs**, **object detection**, and **image segmentation** later on.\n",
    "\n",
    "---\n",
    "\n",
    "## 🧠 The Convolutional Classifier\n",
    "\n",
    "A convolutional neural network (CNN or *convnet*) we use for classification has two main parts:\n",
    "\n",
    "1. 🧱 **The base** — this extracts features from the image  \n",
    "2. 🧠 **The head** — this classifies the image based on those features\n",
    "\n",
    "### 🧩 What’s a “feature”?\n",
    "\n",
    "It might be:\n",
    "- A line or edge\n",
    "- A color patch\n",
    "- A texture or shape\n",
    "- A combination of patterns\n",
    "\n",
    "The base helps our network learn to see those, and the head uses that information to figure out what’s in the image.\n",
    "\n",
    "---\n",
    "\n",
    "## 🛠️ Training the Classifier\n",
    "\n",
    "During training, our model learns two essential things:\n",
    "\n",
    "1. **What features to extract** (the job of the base)  \n",
    "2. **How to map those features to labels** (the head’s role)\n",
    "\n",
    "> These days, we rarely start from scratch.\n",
    "\n",
    "Instead, we usually borrow a **pretrained base** (like ResNet or VGG), and **add our own head** on top.  \n",
    "This way, we’re using a model that already knows how to “see” — and just teaching it to “name” the things we care about.\n",
    "\n",
    "That’s called:\n",
    "\n",
    "### 🔄 Transfer Learning\n",
    "\n",
    "Transfer learning helps us:\n",
    "- Train faster\n",
    "- Use less data\n",
    "- Get better results\n",
    "\n",
    "And that’s exactly what we’ll be doing.\n",
    "\n",
    "---\n",
    "\n",
    "## 🧪 Summary\n",
    "\n",
    "| Concept               | What It Means                                                 |\n",
    "|------------------------|---------------------------------------------------------------|\n",
    "| 📦 Convnet             | A neural net built for visual data                            |\n",
    "| 🧱 Base                | Convolution layers to extract features                         |\n",
    "| 🧠 Head                | Dense layers to classify features                              |\n",
    "| 📸 Image Classification| Figuring out what's in a picture                              |\n",
    "| 🔁 Transfer Learning   | Reuse a trained base and customize the top                     |\n",
    "| 🧬 Data Augmentation   | Expand our dataset by flipping, rotating, zooming, etc.       |\n",
    "\n",
    "---\n",
    "\n",
    "We’re about to build some amazing things — and by the end, we’ll have a solid foundation in computer vision and the tools to keep exploring more.\n",
    "\n",
    "Let’s jump in!\n",
    "```\n"
   ]
  },
  {
   "cell_type": "code",
   "execution_count": 2,
   "id": "3666388d",
   "metadata": {},
   "outputs": [
    {
     "name": "stdout",
     "output_type": "stream",
     "text": [
      "Found 5117 files belonging to 2 classes.\n",
      "Found 5051 files belonging to 2 classes.\n"
     ]
    }
   ],
   "source": [
    "# Imports\n",
    "import os, warnings\n",
    "import matplotlib.pyplot as plt\n",
    "from matplotlib import gridspec\n",
    "\n",
    "import numpy as np\n",
    "import tensorflow as tf\n",
    "from tensorflow.keras.preprocessing import image_dataset_from_directory\n",
    "\n",
    "# Reproducability\n",
    "def set_seed(seed=31415):\n",
    "    np.random.seed(seed)\n",
    "    tf.random.set_seed(seed)\n",
    "    os.environ['PYTHONHASHSEED'] = str(seed)\n",
    "    os.environ['TF_DETERMINISTIC_OPS'] = '1'\n",
    "set_seed()\n",
    "\n",
    "# Load training and validation sets\n",
    "ds_train_ = image_dataset_from_directory(\n",
    "    'c:/Users/samad/OneDrive/Dokumenty/526546846848/Computer_Vision/car-or-truck/versions/1/train',\n",
    "    labels='inferred',\n",
    "    label_mode='binary',\n",
    "    image_size=[128, 128],\n",
    "    interpolation='nearest',\n",
    "    batch_size=64,\n",
    "    shuffle=True,\n",
    ")\n",
    "ds_valid_ = image_dataset_from_directory(\n",
    "    'c:/Users/samad/OneDrive/Dokumenty/526546846848/Computer_Vision/car-or-truck/versions/1/valid',\n",
    "    labels='inferred',\n",
    "    label_mode='binary',\n",
    "    image_size=[128, 128],\n",
    "    interpolation='nearest',\n",
    "    batch_size=64,\n",
    "    shuffle=False,\n",
    ")\n",
    "# Data Pipeline\n",
    "def convert_to_float(image, label):\n",
    "    image = tf.image.convert_image_dtype(image, dtype=tf.float32)\n",
    "    return image, label\n",
    "\n",
    "AUTOTUNE = tf.data.experimental.AUTOTUNE\n",
    "ds_train = (\n",
    "    ds_train_\n",
    "    .map(convert_to_float)\n",
    "    .cache()\n",
    "    .prefetch(buffer_size=AUTOTUNE)\n",
    ")\n",
    "ds_valid = (\n",
    "    ds_valid_\n",
    "    .map(convert_to_float)\n",
    "    .cache()\n",
    "    .prefetch(buffer_size=AUTOTUNE)\n",
    ")\n"
   ]
  },
  {
   "cell_type": "markdown",
   "id": "52b5245f",
   "metadata": {},
   "source": [
    "The InceptionV1 model pretrained on ImageNet is available in the TensorFlow Hub repository, but we'll load it from a local copy. "
   ]
  },
  {
   "cell_type": "markdown",
   "id": "f0c8dda3",
   "metadata": {},
   "source": [
    "# 1) Define Pretrained Base & Attach Head #\n"
   ]
  },
  {
   "cell_type": "code",
   "execution_count": 6,
   "id": "c52acf31",
   "metadata": {},
   "outputs": [
    {
     "name": "stdout",
     "output_type": "stream",
     "text": [
      "WARNING:tensorflow:From c:\\Users\\samad\\AppData\\Local\\Programs\\Python\\Python312\\Lib\\site-packages\\keras\\src\\backend\\tensorflow\\core.py:219: The name tf.placeholder is deprecated. Please use tf.compat.v1.placeholder instead.\n",
      "\n"
     ]
    },
    {
     "name": "stderr",
     "output_type": "stream",
     "text": [
      "c:\\Users\\samad\\AppData\\Local\\Programs\\Python\\Python312\\Lib\\site-packages\\keras\\src\\layers\\core\\input_layer.py:27: UserWarning: Argument `input_shape` is deprecated. Use `shape` instead.\n",
      "  warnings.warn(\n",
      "WARNING:tensorflow:From c:\\Users\\samad\\AppData\\Local\\Programs\\Python\\Python312\\Lib\\site-packages\\keras\\src\\backend\\tensorflow\\core.py:219: The name tf.placeholder is deprecated. Please use tf.compat.v1.placeholder instead.\n",
      "\n"
     ]
    }
   ],
   "source": [
    "import tensorflow as tf\n",
    "from tensorflow import keras\n",
    "from tensorflow.keras import layers\n",
    "\n",
    "# Path to your model\n",
    "model_path = r'c:\\Users\\samad\\OneDrive\\Dokumenty\\526546846848\\Computer_Vision\\cv-course-models\\versions\\4\\cv-course-models\\inceptionv1'\n",
    "\n",
    "# Create a wrapper class for the SavedModel\n",
    "class SavedModelWrapper(keras.layers.Layer):\n",
    "    def __init__(self, model_path):\n",
    "        super(SavedModelWrapper, self).__init__()\n",
    "        self.model = tf.saved_model.load(model_path)\n",
    "        self.infer = self.model.signatures['serving_default']\n",
    "        \n",
    "        # Get input details\n",
    "        self.input_shapes = list(self.infer.structured_input_signature[1].values())[0].shape\n",
    "        self.input_name = list(self.infer.structured_input_signature[1].keys())[0]\n",
    "        \n",
    "    def call(self, inputs):\n",
    "        # Get output tensor from the SavedModel\n",
    "        results = self.infer(**{self.input_name: inputs})\n",
    "        \n",
    "        # Return the first output (adjust as needed based on model outputs)\n",
    "        return list(results.values())[0]\n",
    "\n",
    "# Create Sequential model with the wrapper\n",
    "inception_wrapper = SavedModelWrapper(model_path)\n",
    "inception_wrapper.trainable = False # Freeze the model bcse we are loading a pre-trained model\n",
    "model = keras.Sequential([\n",
    "    # Input layer with the correct shape\n",
    "    layers.InputLayer(input_shape=(128, 128, 3)),\n",
    "    \n",
    "    # SavedModel wrapper\n",
    "    inception_wrapper,\n",
    "    \n",
    "    # Your additional layers\n",
    "    layers.Flatten(),\n",
    "    layers.Dense(6, activation='relu'),\n",
    "    layers.Dense(1, activation='sigmoid'),\n",
    "])\n"
   ]
  },
  {
   "cell_type": "markdown",
   "id": "ddfb8cbe",
   "metadata": {},
   "source": [
    "# 2) Train #\n",
    "\n",
    "Before training a model in Keras, you need to specify an *optimizer* to perform the gradient descent, a *loss function* to be minimized, and (optionally) any *performance metrics*. The optimization algorithm we'll use for this course is called [\"Adam\"](https://keras.io/api/optimizers/adam/), which generally performs well regardless of what kind of problem you're trying to solve.\n",
    "\n",
    "The loss and the metrics, however, need to match the kind of problem you're trying to solve. Our problem is a **binary classification** problem: `Car` coded as 0, and `Truck` coded as 1."
   ]
  },
  {
   "cell_type": "code",
   "execution_count": 7,
   "id": "315ed3ca",
   "metadata": {},
   "outputs": [],
   "source": [
    "optimizer = tf.keras.optimizers.Adam(epsilon=0.01)\n",
    "model.compile(\n",
    "    optimizer='adam',\n",
    "    loss='binary_crossentropy',\n",
    "    metrics=['binary_accuracy'],\n",
    ")"
   ]
  },
  {
   "cell_type": "code",
   "execution_count": 8,
   "id": "a597c67c",
   "metadata": {},
   "outputs": [
    {
     "name": "stdout",
     "output_type": "stream",
     "text": [
      "Epoch 1/30\n",
      "\u001b[1m80/80\u001b[0m \u001b[32m━━━━━━━━━━━━━━━━━━━━\u001b[0m\u001b[37m\u001b[0m \u001b[1m53s\u001b[0m 613ms/step - binary_accuracy: 0.7041 - loss: 0.5519 - val_binary_accuracy: 0.8238 - val_loss: 0.3994\n",
      "Epoch 2/30\n",
      "\u001b[1m80/80\u001b[0m \u001b[32m━━━━━━━━━━━━━━━━━━━━\u001b[0m\u001b[37m\u001b[0m \u001b[1m53s\u001b[0m 667ms/step - binary_accuracy: 0.8309 - loss: 0.3841 - val_binary_accuracy: 0.8369 - val_loss: 0.3758\n",
      "Epoch 3/30\n",
      "\u001b[1m80/80\u001b[0m \u001b[32m━━━━━━━━━━━━━━━━━━━━\u001b[0m\u001b[37m\u001b[0m \u001b[1m66s\u001b[0m 826ms/step - binary_accuracy: 0.8426 - loss: 0.3571 - val_binary_accuracy: 0.8404 - val_loss: 0.3653\n",
      "Epoch 4/30\n",
      "\u001b[1m80/80\u001b[0m \u001b[32m━━━━━━━━━━━━━━━━━━━━\u001b[0m\u001b[37m\u001b[0m \u001b[1m77s\u001b[0m 973ms/step - binary_accuracy: 0.8565 - loss: 0.3404 - val_binary_accuracy: 0.8448 - val_loss: 0.3587\n",
      "Epoch 5/30\n",
      "\u001b[1m80/80\u001b[0m \u001b[32m━━━━━━━━━━━━━━━━━━━━\u001b[0m\u001b[37m\u001b[0m \u001b[1m72s\u001b[0m 912ms/step - binary_accuracy: 0.8633 - loss: 0.3278 - val_binary_accuracy: 0.8472 - val_loss: 0.3544\n",
      "Epoch 6/30\n",
      "\u001b[1m80/80\u001b[0m \u001b[32m━━━━━━━━━━━━━━━━━━━━\u001b[0m\u001b[37m\u001b[0m \u001b[1m75s\u001b[0m 944ms/step - binary_accuracy: 0.8688 - loss: 0.3175 - val_binary_accuracy: 0.8481 - val_loss: 0.3516\n",
      "Epoch 7/30\n",
      "\u001b[1m80/80\u001b[0m \u001b[32m━━━━━━━━━━━━━━━━━━━━\u001b[0m\u001b[37m\u001b[0m \u001b[1m83s\u001b[0m 1s/step - binary_accuracy: 0.8734 - loss: 0.3088 - val_binary_accuracy: 0.8481 - val_loss: 0.3497\n",
      "Epoch 8/30\n",
      "\u001b[1m80/80\u001b[0m \u001b[32m━━━━━━━━━━━━━━━━━━━━\u001b[0m\u001b[37m\u001b[0m \u001b[1m72s\u001b[0m 911ms/step - binary_accuracy: 0.8805 - loss: 0.3014 - val_binary_accuracy: 0.8481 - val_loss: 0.3485\n",
      "Epoch 9/30\n",
      "\u001b[1m80/80\u001b[0m \u001b[32m━━━━━━━━━━━━━━━━━━━━\u001b[0m\u001b[37m\u001b[0m \u001b[1m89s\u001b[0m 1s/step - binary_accuracy: 0.8843 - loss: 0.2949 - val_binary_accuracy: 0.8487 - val_loss: 0.3477\n",
      "Epoch 10/30\n",
      "\u001b[1m80/80\u001b[0m \u001b[32m━━━━━━━━━━━━━━━━━━━━\u001b[0m\u001b[37m\u001b[0m \u001b[1m73s\u001b[0m 918ms/step - binary_accuracy: 0.8871 - loss: 0.2891 - val_binary_accuracy: 0.8503 - val_loss: 0.3471\n",
      "Epoch 11/30\n",
      "\u001b[1m80/80\u001b[0m \u001b[32m━━━━━━━━━━━━━━━━━━━━\u001b[0m\u001b[37m\u001b[0m \u001b[1m78s\u001b[0m 976ms/step - binary_accuracy: 0.8888 - loss: 0.2839 - val_binary_accuracy: 0.8513 - val_loss: 0.3468\n",
      "Epoch 12/30\n",
      "\u001b[1m80/80\u001b[0m \u001b[32m━━━━━━━━━━━━━━━━━━━━\u001b[0m\u001b[37m\u001b[0m \u001b[1m75s\u001b[0m 948ms/step - binary_accuracy: 0.8887 - loss: 0.2792 - val_binary_accuracy: 0.8507 - val_loss: 0.3472\n",
      "Epoch 13/30\n",
      "\u001b[1m80/80\u001b[0m \u001b[32m━━━━━━━━━━━━━━━━━━━━\u001b[0m\u001b[37m\u001b[0m \u001b[1m71s\u001b[0m 888ms/step - binary_accuracy: 0.8881 - loss: 0.2750 - val_binary_accuracy: 0.8513 - val_loss: 0.3472\n",
      "Epoch 14/30\n",
      "\u001b[1m80/80\u001b[0m \u001b[32m━━━━━━━━━━━━━━━━━━━━\u001b[0m\u001b[37m\u001b[0m \u001b[1m76s\u001b[0m 958ms/step - binary_accuracy: 0.8903 - loss: 0.2710 - val_binary_accuracy: 0.8509 - val_loss: 0.3468\n",
      "Epoch 15/30\n",
      "\u001b[1m80/80\u001b[0m \u001b[32m━━━━━━━━━━━━━━━━━━━━\u001b[0m\u001b[37m\u001b[0m \u001b[1m67s\u001b[0m 844ms/step - binary_accuracy: 0.8912 - loss: 0.2673 - val_binary_accuracy: 0.8505 - val_loss: 0.3471\n",
      "Epoch 16/30\n",
      "\u001b[1m80/80\u001b[0m \u001b[32m━━━━━━━━━━━━━━━━━━━━\u001b[0m\u001b[37m\u001b[0m \u001b[1m67s\u001b[0m 848ms/step - binary_accuracy: 0.8921 - loss: 0.2639 - val_binary_accuracy: 0.8499 - val_loss: 0.3479\n",
      "Epoch 17/30\n",
      "\u001b[1m80/80\u001b[0m \u001b[32m━━━━━━━━━━━━━━━━━━━━\u001b[0m\u001b[37m\u001b[0m \u001b[1m70s\u001b[0m 884ms/step - binary_accuracy: 0.8937 - loss: 0.2608 - val_binary_accuracy: 0.8511 - val_loss: 0.3483\n",
      "Epoch 18/30\n",
      "\u001b[1m80/80\u001b[0m \u001b[32m━━━━━━━━━━━━━━━━━━━━\u001b[0m\u001b[37m\u001b[0m \u001b[1m69s\u001b[0m 862ms/step - binary_accuracy: 0.8959 - loss: 0.2579 - val_binary_accuracy: 0.8517 - val_loss: 0.3495\n",
      "Epoch 19/30\n",
      "\u001b[1m80/80\u001b[0m \u001b[32m━━━━━━━━━━━━━━━━━━━━\u001b[0m\u001b[37m\u001b[0m \u001b[1m66s\u001b[0m 831ms/step - binary_accuracy: 0.8973 - loss: 0.2552 - val_binary_accuracy: 0.8517 - val_loss: 0.3502\n",
      "Epoch 20/30\n",
      "\u001b[1m80/80\u001b[0m \u001b[32m━━━━━━━━━━━━━━━━━━━━\u001b[0m\u001b[37m\u001b[0m \u001b[1m66s\u001b[0m 834ms/step - binary_accuracy: 0.8985 - loss: 0.2526 - val_binary_accuracy: 0.8521 - val_loss: 0.3506\n",
      "Epoch 21/30\n",
      "\u001b[1m80/80\u001b[0m \u001b[32m━━━━━━━━━━━━━━━━━━━━\u001b[0m\u001b[37m\u001b[0m \u001b[1m65s\u001b[0m 814ms/step - binary_accuracy: 0.8998 - loss: 0.2502 - val_binary_accuracy: 0.8521 - val_loss: 0.3521\n",
      "Epoch 22/30\n",
      "\u001b[1m80/80\u001b[0m \u001b[32m━━━━━━━━━━━━━━━━━━━━\u001b[0m\u001b[37m\u001b[0m \u001b[1m65s\u001b[0m 822ms/step - binary_accuracy: 0.9006 - loss: 0.2479 - val_binary_accuracy: 0.8519 - val_loss: 0.3528\n",
      "Epoch 23/30\n",
      "\u001b[1m80/80\u001b[0m \u001b[32m━━━━━━━━━━━━━━━━━━━━\u001b[0m\u001b[37m\u001b[0m \u001b[1m67s\u001b[0m 844ms/step - binary_accuracy: 0.9028 - loss: 0.2458 - val_binary_accuracy: 0.8519 - val_loss: 0.3537\n",
      "Epoch 24/30\n",
      "\u001b[1m80/80\u001b[0m \u001b[32m━━━━━━━━━━━━━━━━━━━━\u001b[0m\u001b[37m\u001b[0m \u001b[1m65s\u001b[0m 812ms/step - binary_accuracy: 0.9042 - loss: 0.2436 - val_binary_accuracy: 0.8519 - val_loss: 0.3551\n",
      "Epoch 25/30\n",
      "\u001b[1m80/80\u001b[0m \u001b[32m━━━━━━━━━━━━━━━━━━━━\u001b[0m\u001b[37m\u001b[0m \u001b[1m64s\u001b[0m 809ms/step - binary_accuracy: 0.9039 - loss: 0.2417 - val_binary_accuracy: 0.8527 - val_loss: 0.3554\n",
      "Epoch 26/30\n",
      "\u001b[1m80/80\u001b[0m \u001b[32m━━━━━━━━━━━━━━━━━━━━\u001b[0m\u001b[37m\u001b[0m \u001b[1m65s\u001b[0m 818ms/step - binary_accuracy: 0.9047 - loss: 0.2397 - val_binary_accuracy: 0.8519 - val_loss: 0.3575\n",
      "Epoch 27/30\n",
      "\u001b[1m80/80\u001b[0m \u001b[32m━━━━━━━━━━━━━━━━━━━━\u001b[0m\u001b[37m\u001b[0m \u001b[1m65s\u001b[0m 816ms/step - binary_accuracy: 0.9069 - loss: 0.2380 - val_binary_accuracy: 0.8521 - val_loss: 0.3575\n",
      "Epoch 28/30\n",
      "\u001b[1m80/80\u001b[0m \u001b[32m━━━━━━━━━━━━━━━━━━━━\u001b[0m\u001b[37m\u001b[0m \u001b[1m66s\u001b[0m 824ms/step - binary_accuracy: 0.9068 - loss: 0.2361 - val_binary_accuracy: 0.8519 - val_loss: 0.3595\n",
      "Epoch 29/30\n",
      "\u001b[1m80/80\u001b[0m \u001b[32m━━━━━━━━━━━━━━━━━━━━\u001b[0m\u001b[37m\u001b[0m \u001b[1m65s\u001b[0m 822ms/step - binary_accuracy: 0.9065 - loss: 0.2346 - val_binary_accuracy: 0.8527 - val_loss: 0.3593\n",
      "Epoch 30/30\n",
      "\u001b[1m80/80\u001b[0m \u001b[32m━━━━━━━━━━━━━━━━━━━━\u001b[0m\u001b[37m\u001b[0m \u001b[1m64s\u001b[0m 808ms/step - binary_accuracy: 0.9072 - loss: 0.2328 - val_binary_accuracy: 0.8523 - val_loss: 0.3611\n"
     ]
    }
   ],
   "source": [
    "history = model.fit(\n",
    "    ds_train,\n",
    "    validation_data=ds_valid,\n",
    "    epochs=30,\n",
    ")"
   ]
  },
  {
   "cell_type": "code",
   "execution_count": 9,
   "id": "a90841ba",
   "metadata": {},
   "outputs": [
    {
     "data": {
      "text/plain": [
       "<Axes: >"
      ]
     },
     "execution_count": 9,
     "metadata": {},
     "output_type": "execute_result"
    },
    {
     "data": {
      "image/png": "[encoded data removed]",
      "text/plain": [
       "<Figure size 640x480 with 1 Axes>"
      ]
     },
     "metadata": {},
     "output_type": "display_data"
    },
    {
     "data": {
      "image/png": "[encoded data removed]",
      "text/plain": [
       "<Figure size 640x480 with 1 Axes>"
      ]
     },
     "metadata": {},
     "output_type": "display_data"
    }
   ],
   "source": [
    "# Plot learning curves\n",
    "import pandas as pd\n",
    "history_frame = pd.DataFrame(history.history)\n",
    "history_frame.loc[:, ['loss', 'val_loss']].plot()\n",
    "history_frame.loc[:, ['binary_accuracy', 'val_binary_accuracy']].plot()"
   ]
  },
  {
   "cell_type": "markdown",
   "id": "aae03c61",
   "metadata": {},
   "source": [
    "--->>> Overfitting!!"
   ]
  }
 ],
 "metadata": {
  "kernelspec": {
   "display_name": "Python 3",
   "language": "python",
   "name": "python3"
  },
  "language_info": {
   "codemirror_mode": {
    "name": "ipython",
    "version": 3
   },
   "file_extension": ".py",
   "mimetype": "text/x-python",
   "name": "python",
   "nbconvert_exporter": "python",
   "pygments_lexer": "ipython3",
   "version": "3.12.4"
  }
 },
 "nbformat": 4,
 "nbformat_minor": 5
}
